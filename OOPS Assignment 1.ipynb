{
 "cells": [
  {
   "cell_type": "code",
   "execution_count": 1,
   "id": "ab217dd1-5bb6-4ecd-864f-38fc684cd0b9",
   "metadata": {},
   "outputs": [],
   "source": [
    "# A class is a user defined layout or blueprint  of an object that describes what a specific kind of object will look like.\n",
    "#  An object is a concrete \"thing\" that we make using a specific class and the word \"instance\" indicates the relationship of an object to its class.\n",
    "\n",
    "# For example suppose we a class phone .Then the android phone and Iphone are instances of the class phone"
   ]
  },
  {
   "cell_type": "code",
   "execution_count": 2,
   "id": "1c926738-54a4-433a-8dac-d8397c155d72",
   "metadata": {},
   "outputs": [],
   "source": [
    "#  The four pillars of OOPs are - 1) Inheritance 2) Polymorphism 3) Abstraction 4) Encapsulation"
   ]
  },
  {
   "cell_type": "code",
   "execution_count": 3,
   "id": "c0b693e0-760b-4408-bd50-26a1a6cc8f6c",
   "metadata": {},
   "outputs": [],
   "source": [
    "# __init__method in python is used to initialize objects of a class. It is also called a constructor.\n",
    "# the task of constructors is to assign values to the data members of the class when an object of the class is created"
   ]
  },
  {
   "cell_type": "code",
   "execution_count": 5,
   "id": "3f9408e9-7f59-431e-9c79-ae662bcbf0fb",
   "metadata": {},
   "outputs": [],
   "source": [
    "\n",
    "# for example\n",
    "\n",
    "class Bike:\n",
    "    def __init__(self,name,price):\n",
    "        self.name=name\n",
    "        self.price=price"
   ]
  },
  {
   "cell_type": "code",
   "execution_count": 7,
   "id": "d0b3f2a5-bd3e-43fd-b527-a40af4e95eb2",
   "metadata": {},
   "outputs": [],
   "source": [
    "# \" Self\" is not a reserve key word in python. It is used as pointer , it binds the attributes and method of the class in python\n",
    "# The self is used to represent the instance of the class"
   ]
  },
  {
   "cell_type": "code",
   "execution_count": 8,
   "id": "4f2ccd32-0165-4007-bdb1-0d5fc98410db",
   "metadata": {},
   "outputs": [],
   "source": [
    "# Inheritance is the process where the child class inherite the property of the parent class\n",
    "# There are 5 types of inheritance - 1) Single inheritance 2)Multiple Inheritance 3) Multilevel Inheritance 4) Hierarchical Inheritance \n",
    "#  5) Hybrid nheritance"
   ]
  },
  {
   "cell_type": "code",
   "execution_count": 9,
   "id": "5e6c55d4-12ec-4b73-91a0-c1281b02fc94",
   "metadata": {},
   "outputs": [],
   "source": [
    "# Single Inheritance\n",
    "\n",
    "class parent :\n",
    "    def func1(self):\n",
    "        print ( \" This is the parent class\")"
   ]
  },
  {
   "cell_type": "code",
   "execution_count": 11,
   "id": "9e74b9c2-6271-4c2c-9dbe-7be4a34bc9e6",
   "metadata": {},
   "outputs": [],
   "source": [
    "class Child(parent):\n",
    "    def func2(self):\n",
    "        print (\" this is the child class\")"
   ]
  },
  {
   "cell_type": "code",
   "execution_count": 13,
   "id": "aae52b4a-0db1-4e0d-8463-25e8e759f660",
   "metadata": {},
   "outputs": [],
   "source": [
    "C=Child()"
   ]
  },
  {
   "cell_type": "code",
   "execution_count": 16,
   "id": "514ff9e1-84d8-4b93-a9af-3a24eded2a1e",
   "metadata": {},
   "outputs": [
    {
     "name": "stdout",
     "output_type": "stream",
     "text": [
      " this is the child class\n"
     ]
    }
   ],
   "source": [
    "C.func2()"
   ]
  },
  {
   "cell_type": "code",
   "execution_count": 17,
   "id": "87f15ada-2b9e-4cec-8367-f96eeb83bcec",
   "metadata": {},
   "outputs": [
    {
     "name": "stdout",
     "output_type": "stream",
     "text": [
      " This is the parent class\n"
     ]
    }
   ],
   "source": [
    "C.func1()"
   ]
  },
  {
   "cell_type": "code",
   "execution_count": 18,
   "id": "35c38aab-ba81-4872-8755-855e440a0014",
   "metadata": {},
   "outputs": [],
   "source": [
    "# child class inherites the property of parent class , this is called single inheritance"
   ]
  },
  {
   "cell_type": "code",
   "execution_count": 2,
   "id": "9f93ade2-94cb-420a-9d75-5ca985b9b947",
   "metadata": {},
   "outputs": [],
   "source": [
    "# Multiple Inheritance\n",
    "\n",
    "# when a class can be derived from more than one base class  this type of inheritance is called multiple Inheritancwe\n",
    "\n",
    "class mother :\n",
    "    def func1 (self):\n",
    "        print(\"This is my mother\")\n",
    "        \n",
    "    "
   ]
  },
  {
   "cell_type": "code",
   "execution_count": 3,
   "id": "142bd90a-1df0-4e2a-9b80-8990c0a7f4e6",
   "metadata": {},
   "outputs": [],
   "source": [
    "class father:\n",
    "    def func2(self):\n",
    "        print(\"this is my father\")"
   ]
  },
  {
   "cell_type": "code",
   "execution_count": 4,
   "id": "fc98c2b9-b880-43df-9949-f3ed407e113f",
   "metadata": {},
   "outputs": [],
   "source": [
    "class child(mother,father):\n",
    "    def func3(self):\n",
    "        print(\" I am their child\")"
   ]
  },
  {
   "cell_type": "code",
   "execution_count": 5,
   "id": "d0ead495-82ca-4d3a-9380-914dbf5771c4",
   "metadata": {},
   "outputs": [],
   "source": [
    "ch=child()"
   ]
  },
  {
   "cell_type": "code",
   "execution_count": 6,
   "id": "221c89a9-1899-4151-beac-7e78e69b6bab",
   "metadata": {},
   "outputs": [
    {
     "name": "stdout",
     "output_type": "stream",
     "text": [
      "this is my father\n"
     ]
    }
   ],
   "source": [
    "ch.func2()"
   ]
  },
  {
   "cell_type": "code",
   "execution_count": 7,
   "id": "80c6c078-8fc4-4985-a0c3-3cd4cf017f7a",
   "metadata": {},
   "outputs": [
    {
     "name": "stdout",
     "output_type": "stream",
     "text": [
      "This is my mother\n"
     ]
    }
   ],
   "source": [
    "ch.func1()"
   ]
  },
  {
   "cell_type": "code",
   "execution_count": 9,
   "id": "f5336192-ee7a-4a18-aa4e-38cafb99930c",
   "metadata": {},
   "outputs": [],
   "source": [
    "# Multilevel Inheritance\n",
    "# In multiple inheritance , features of the base class are further inherited into the new derived class . \n",
    "    \n",
    "class Grandfather:\n",
    "    def __init__ (self,grandfathername):\n",
    "        self.grandfathername=grandfathername\n",
    "        \n",
    "    "
   ]
  },
  {
   "cell_type": "code",
   "execution_count": 10,
   "id": "f07e1ed7-08a5-402a-9283-12610a470a74",
   "metadata": {},
   "outputs": [],
   "source": [
    "class father(Grandfather):\n",
    "    def __init__ (self,fathername):\n",
    "        self.fathername=fathername"
   ]
  },
  {
   "cell_type": "code",
   "execution_count": 12,
   "id": "9d820044-cb39-49e5-ab77-6cf73bb39229",
   "metadata": {},
   "outputs": [],
   "source": [
    "#derived class\n",
    "class son(father):\n",
    "    def __init__(self,sonname):\n",
    "        self.sonname=sonname"
   ]
  },
  {
   "cell_type": "code",
   "execution_count": 2,
   "id": "5492387c-c817-442d-9e67-6faca56a7112",
   "metadata": {},
   "outputs": [],
   "source": [
    "# Hierarchical inhgeritance\n",
    "\n",
    "# When more than one derived class are created from a single base this type of inheritance is called Hierarchical Inheritance"
   ]
  },
  {
   "cell_type": "code",
   "execution_count": 4,
   "id": "45a1d724-5597-4de4-bf04-55b59f3da4d5",
   "metadata": {},
   "outputs": [],
   "source": [
    "# Base Class\n",
    "\n",
    "class parent:\n",
    "    def func1(self):\n",
    "        print(\" This is my parent\")"
   ]
  },
  {
   "cell_type": "code",
   "execution_count": 5,
   "id": "3e741ca2-041d-4d89-9ddf-0961276ed25a",
   "metadata": {},
   "outputs": [],
   "source": [
    "# Derived Class 1\n",
    "\n",
    "class child1:\n",
    "    def func2(self):\n",
    "        print(\" this is my 1st child\")"
   ]
  },
  {
   "cell_type": "code",
   "execution_count": 6,
   "id": "edec8a87-63a2-4b96-895b-f8cb87286e8c",
   "metadata": {},
   "outputs": [],
   "source": [
    "# Derived class 2\n",
    "\n",
    "class child2:\n",
    "    def func3(self):\n",
    "        print(\" this is my 2nd child\")"
   ]
  },
  {
   "cell_type": "code",
   "execution_count": 8,
   "id": "e0788d52-dc1c-4c50-9321-182b4b5f9ee0",
   "metadata": {},
   "outputs": [],
   "source": [
    "# Hybrid Inheritance\n",
    "\n",
    "# Inheritance consisting of multiple types of inheritance is called hybrid inheritance."
   ]
  },
  {
   "cell_type": "code",
   "execution_count": 9,
   "id": "60e59e96-7270-4909-8340-7908271fd8e6",
   "metadata": {},
   "outputs": [],
   "source": [
    "class school:\n",
    "    def func1(self):\n",
    "        print( \" this is my school\")"
   ]
  },
  {
   "cell_type": "code",
   "execution_count": 10,
   "id": "f8c0f873-3019-4bd6-b920-415281970b80",
   "metadata": {},
   "outputs": [],
   "source": [
    "class student1 (school):\n",
    "    def func2(self):\n",
    "        print (\" this is my student1\")"
   ]
  },
  {
   "cell_type": "code",
   "execution_count": 11,
   "id": "20110561-e079-4720-b362-ad80f3a0d663",
   "metadata": {},
   "outputs": [],
   "source": [
    "class student2(school):\n",
    "    def func(self):\n",
    "        print( \"This is my student2\")"
   ]
  },
  {
   "cell_type": "code",
   "execution_count": 12,
   "id": "c691ee0d-0594-4412-9cc4-a27173795372",
   "metadata": {},
   "outputs": [],
   "source": [
    "class student3(student1,school):\n",
    "    def func4(self):\n",
    "        print( \" This is my hybrid function\")"
   ]
  },
  {
   "cell_type": "code",
   "execution_count": null,
   "id": "86a5f632-be66-4736-bac7-2d74dd338f18",
   "metadata": {},
   "outputs": [],
   "source": []
  }
 ],
 "metadata": {
  "kernelspec": {
   "display_name": "Python 3 (ipykernel)",
   "language": "python",
   "name": "python3"
  },
  "language_info": {
   "codemirror_mode": {
    "name": "ipython",
    "version": 3
   },
   "file_extension": ".py",
   "mimetype": "text/x-python",
   "name": "python",
   "nbconvert_exporter": "python",
   "pygments_lexer": "ipython3",
   "version": "3.10.8"
  }
 },
 "nbformat": 4,
 "nbformat_minor": 5
}
